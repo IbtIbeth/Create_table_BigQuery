{
 "cells": [
  {
   "cell_type": "markdown",
   "id": "accurate-wings",
   "metadata": {},
   "source": [
    "# Crear una tabla en Google BigQuery"
   ]
  },
  {
   "cell_type": "markdown",
   "id": "little-white",
   "metadata": {},
   "source": [
    "### Se configura la variable de entorno"
   ]
  },
  {
   "cell_type": "code",
   "execution_count": 1,
   "id": "weird-athens",
   "metadata": {},
   "outputs": [],
   "source": [
    "!export GOOGLE_APPLICATION_CREDENTIALS='/home/ibeth/Downloads/numeric-citron-350017-351a341513f0.json'"
   ]
  },
  {
   "cell_type": "markdown",
   "id": "printable-diamond",
   "metadata": {},
   "source": [
    "### Actualizamos google-cloud-storage"
   ]
  },
  {
   "cell_type": "code",
   "execution_count": 9,
   "id": "collectible-tonight",
   "metadata": {},
   "outputs": [
    {
     "name": "stdout",
     "output_type": "stream",
     "text": [
      "Defaulting to user installation because normal site-packages is not writeable\n",
      "Requirement already satisfied: google-cloud-storage in /usr/local/lib/python3.6/dist-packages (2.0.0)\n",
      "Requirement already satisfied: google-api-core<3.0dev,>=1.29.0 in /usr/local/lib/python3.6/dist-packages (from google-cloud-storage) (2.8.1)\n",
      "Requirement already satisfied: google-auth<3.0dev,>=1.25.0 in /home/ibeth/.local/lib/python3.6/site-packages (from google-cloud-storage) (2.0.1)\n",
      "Requirement already satisfied: requests<3.0.0dev,>=2.18.0 in /home/ibeth/.local/lib/python3.6/site-packages (from google-cloud-storage) (2.25.1)\n",
      "Requirement already satisfied: google-cloud-core<3.0dev,>=1.6.0 in /usr/local/lib/python3.6/dist-packages (from google-cloud-storage) (2.3.0)\n",
      "Requirement already satisfied: protobuf in /home/ibeth/.local/lib/python3.6/site-packages (from google-cloud-storage) (3.19.4)\n",
      "Requirement already satisfied: google-resumable-media>=1.3.0 in /usr/local/lib/python3.6/dist-packages (from google-cloud-storage) (2.3.3)\n",
      "Requirement already satisfied: googleapis-common-protos<2.0dev,>=1.56.2 in /usr/local/lib/python3.6/dist-packages (from google-api-core<3.0dev,>=1.29.0->google-cloud-storage) (1.56.2)\n",
      "Requirement already satisfied: pyasn1-modules>=0.2.1 in /home/ibeth/.local/lib/python3.6/site-packages (from google-auth<3.0dev,>=1.25.0->google-cloud-storage) (0.2.8)\n",
      "Requirement already satisfied: setuptools>=40.3.0 in /home/ibeth/.local/lib/python3.6/site-packages (from google-auth<3.0dev,>=1.25.0->google-cloud-storage) (53.0.0)\n",
      "Requirement already satisfied: cachetools<5.0,>=2.0.0 in /home/ibeth/.local/lib/python3.6/site-packages (from google-auth<3.0dev,>=1.25.0->google-cloud-storage) (4.2.2)\n",
      "Requirement already satisfied: rsa<5,>=3.1.4 in /home/ibeth/.local/lib/python3.6/site-packages (from google-auth<3.0dev,>=1.25.0->google-cloud-storage) (4.7.2)\n",
      "Requirement already satisfied: google-crc32c<2.0dev,>=1.0 in /usr/local/lib/python3.6/dist-packages (from google-resumable-media>=1.3.0->google-cloud-storage) (1.3.0)\n",
      "Requirement already satisfied: urllib3<1.27,>=1.21.1 in /home/ibeth/.local/lib/python3.6/site-packages (from requests<3.0.0dev,>=2.18.0->google-cloud-storage) (1.26.3)\n",
      "Requirement already satisfied: chardet<5,>=3.0.2 in /home/ibeth/.local/lib/python3.6/site-packages (from requests<3.0.0dev,>=2.18.0->google-cloud-storage) (4.0.0)\n",
      "Requirement already satisfied: certifi>=2017.4.17 in /home/ibeth/.local/lib/python3.6/site-packages (from requests<3.0.0dev,>=2.18.0->google-cloud-storage) (2020.12.5)\n",
      "Requirement already satisfied: idna<3,>=2.5 in /home/ibeth/.local/lib/python3.6/site-packages (from requests<3.0.0dev,>=2.18.0->google-cloud-storage) (2.10)\n",
      "Requirement already satisfied: pyasn1<0.5.0,>=0.4.6 in /home/ibeth/.local/lib/python3.6/site-packages (from pyasn1-modules>=0.2.1->google-auth<3.0dev,>=1.25.0->google-cloud-storage) (0.4.8)\n"
     ]
    }
   ],
   "source": [
    "!pip3 install --upgrade google-cloud-storage"
   ]
  },
  {
   "cell_type": "code",
   "execution_count": 2,
   "id": "electoral-humanity",
   "metadata": {},
   "outputs": [],
   "source": [
    "#Se importa la librería\n",
    "from google.cloud import bigquery"
   ]
  },
  {
   "cell_type": "code",
   "execution_count": 3,
   "id": "statistical-southeast",
   "metadata": {},
   "outputs": [],
   "source": [
    "#Esta función es para verificar que la autentificación salio bien\n",
    "def implicit():\n",
    "    from google.cloud import storage\n",
    "\n",
    "    storage_client = storage.Client()\n",
    "    buckets = list(storage_client.list_buckets())\n",
    "    print(buckets)"
   ]
  },
  {
   "cell_type": "code",
   "execution_count": 4,
   "id": "municipal-reporter",
   "metadata": {},
   "outputs": [
    {
     "name": "stdout",
     "output_type": "stream",
     "text": [
      "[]\n"
     ]
    }
   ],
   "source": [
    "#Llamamos la función anterior y vemos que si se autentifico\n",
    "implicit()"
   ]
  },
  {
   "cell_type": "markdown",
   "id": "congressional-flexibility",
   "metadata": {},
   "source": [
    "### Creación de una base de datos en la que llamanos al proyecto que estamos actualmente autentificados y le damos un nombre a la base de datos en este caso \"cancion\""
   ]
  },
  {
   "cell_type": "code",
   "execution_count": 7,
   "id": "naked-retirement",
   "metadata": {},
   "outputs": [
    {
     "name": "stdout",
     "output_type": "stream",
     "text": [
      "Created dataset numeric-citron-350017.cancion\n"
     ]
    }
   ],
   "source": [
    "client = bigquery.Client() #Autentificación\n",
    "\n",
    "dataset_id = \"{}.cancion\".format(client.project)\n",
    "dataset = bigquery.Dataset(dataset_id)\n",
    "dataset.location = \"US\" #Ubicación\n",
    "\n",
    "dataset = client.create_dataset(dataset, timeout=90)   # Creación de la base de datos con un tiempo limite\n",
    "print(\"Created dataset {}.{}\".format(client.project, dataset.dataset_id)) \n",
    "#Imprimimos el proyecto y el nombre de la base de datos en el formato de id si es que se creo correctamente"
   ]
  },
  {
   "cell_type": "markdown",
   "id": "operating-garage",
   "metadata": {},
   "source": [
    "### Creación de una tabla en bigquery "
   ]
  },
  {
   "cell_type": "code",
   "execution_count": 8,
   "id": "nonprofit-method",
   "metadata": {},
   "outputs": [
    {
     "name": "stdout",
     "output_type": "stream",
     "text": [
      "Created table numeric-citron-350017.cancion.canciones\n"
     ]
    }
   ],
   "source": [
    "table_id = \"numeric-citron-350017.cancion.canciones\" #El resultado que se dio anteriormente se ingresa a continuación\n",
    "\n",
    "#Le damos el formato a la tabla creando los atributos con su formato y sus restricciones\n",
    "schema = [\n",
    "    bigquery.SchemaField(\"nombre\", \"STRING\", mode=\"REQUIRED\"),\n",
    "    bigquery.SchemaField(\"genero\", \"STRING\", mode=\"REQUIRED\"),\n",
    "    bigquery.SchemaField(\"duracion\", \"INTEGER\", mode=\"REQUIRED\"),\n",
    "    bigquery.SchemaField(\"id\", \"STRING\", mode=\"REQUIRED\"),\n",
    "]\n",
    "\n",
    "table = bigquery.Table(table_id, schema=schema)\n",
    "table = client.create_table(table)  #Creación de la tabla\n",
    "print(\"Created table {}.{}.{}\".format(table.project, table.dataset_id, table.table_id))\n",
    "#Imprimimos el id comleto de la tabla "
   ]
  },
  {
   "cell_type": "markdown",
   "id": "assisted-defendant",
   "metadata": {},
   "source": [
    "_Código obtenido de la documentación de google cloud_"
   ]
  }
 ],
 "metadata": {
  "kernelspec": {
   "display_name": "Python 3",
   "language": "python",
   "name": "python3"
  },
  "language_info": {
   "codemirror_mode": {
    "name": "ipython",
    "version": 3
   },
   "file_extension": ".py",
   "mimetype": "text/x-python",
   "name": "python",
   "nbconvert_exporter": "python",
   "pygments_lexer": "ipython3",
   "version": "3.6.9"
  }
 },
 "nbformat": 4,
 "nbformat_minor": 5
}
